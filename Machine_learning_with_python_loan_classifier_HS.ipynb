{
 "cells": [
  {
   "cell_type": "markdown",
   "metadata": {},
   "source": [
    "<!---\n",
    "--->"
   ]
  },
  {
   "cell_type": "markdown",
   "metadata": {},
   "source": [
    "<!---\n",
    "--->"
   ]
  },
  {
   "cell_type": "markdown",
   "metadata": {},
   "source": [
    "  <center><font size=\"6.8\">  BANK LOAN CLASSIFICATION  </center></br>\n",
    "  </br>\n",
    "  <center><font size=\"5\">  &nbsp; &nbsp; &nbsp; &nbsp; &nbsp; &nbsp; &nbsp; &nbsp; &nbsp; &nbsp; &nbsp; &nbsp;-- machine learning with python scikit-learn </center>"
   ]
  },
  {
   "cell_type": "markdown",
   "metadata": {
    "button": false,
    "new_sheet": false,
    "run_control": {
     "read_only": false
    }
   },
   "source": [
    "# <font size=\"5\"> ABSTRACT:  </font> \n",
    "This project classifies a bank loan dataset (Source: IBM) using four machine learning methods (KNN, Decision Tree, Support Vector Machine and Logistic Regression) in python.  Testing result shows that KNN has the best prediction accuracy using the metrics of F1 score.  Results of all four methods are given in the end as well."
   ]
  },
  {
   "cell_type": "markdown",
   "metadata": {},
   "source": [
    "# <font size=\"5\"> Contents  </font> \n",
    "\n",
    "1. [Part I Data Preparation, Model Training and Development Set Testing](#1)\n",
    "\n",
    "    * KNN training\n",
    "    * Decision tree training\n",
    "    * Support Vector Machine(SVM) training\n",
    "    * Logistic regression training\n",
    "    \n",
    "    \n",
    "2. [Part II Model Evaluation Using Out-of-sample Test Set](#2)\n",
    "\n",
    "    * KNN testing\n",
    "    * Decision tree testing\n",
    "    * SVM out-of-sample testing\n",
    "    * Logistic regression out-of-sample testing\n",
    "    \n",
    "    \n",
    "3. [Part III Accuracy Report](#3)\n",
    "\n",
    "    * Classification accuracy table\n",
    "    "
   ]
  },
  {
   "cell_type": "markdown",
   "metadata": {},
   "source": [
    "###  <font size=\"5\">About the Dataset </font>\n",
    "\n",
    "This dataset contain past loans information. The __loan_train.csv__ data set includes details of 346 customers whose loan are already paid off or defaulted. Testing set **loan_test.csv** has 54 samples.  They include following fields:\n",
    "\n",
    "| Field          | Description                                                                           |\n",
    "|----------------|---------------------------------------------------------------------------------------|\n",
    "| Loan_status    | Whether a loan is paid off on in collection                                           |\n",
    "| Principal      | Basic principal loan amount at the                                                    |\n",
    "| Terms          | Origination terms which can be weekly (7 days), biweekly, and monthly payoff schedule |\n",
    "| Effective_date | When the loan got originated and took effects                                         |\n",
    "| Due_date       | Since it’s one-time payoff schedule, each loan has one single due date                |\n",
    "| Age            | Age of applicant                                                                      |\n",
    "| Education      | Education of applicant                                                                |\n",
    "| Gender         | The gender of applicant                                                               |\n",
    "\n"
   ]
  },
  {
   "cell_type": "code",
   "execution_count": 1,
   "metadata": {
    "button": false,
    "new_sheet": false,
    "run_control": {
     "read_only": false
    }
   },
   "outputs": [],
   "source": [
    "import itertools\n",
    "import numpy as np\n",
    "import matplotlib.pyplot as plt\n",
    "from matplotlib.ticker import NullFormatter\n",
    "import pandas as pd\n",
    "import numpy as np\n",
    "import matplotlib.ticker as ticker\n",
    "from sklearn import preprocessing\n",
    "from sklearn import metrics\n",
    "from sklearn.metrics import classification_report, confusion_matrix\n",
    "from sklearn.metrics import jaccard_score\n",
    "from sklearn.metrics import f1_score\n",
    "from sklearn.metrics import log_loss\n",
    "import warnings\n",
    "warnings.filterwarnings('ignore')\n",
    "%matplotlib inline"
   ]
  },
  {
   "cell_type": "markdown",
   "metadata": {
    "button": false,
    "new_sheet": false,
    "run_control": {
     "read_only": false
    }
   },
   "source": [
    "<!---\n",
    "#!wget -O loan_train.csv https://s3-api.us-geo.objectstorage.softlayer.net/cf-courses-data/CognitiveClass/ML0101ENv3/labs/loan_train.csv\n",
    "--->"
   ]
  },
  {
   "cell_type": "markdown",
   "metadata": {
    "button": false,
    "new_sheet": false,
    "run_control": {
     "read_only": false
    }
   },
   "source": [
    "## Part I Data Preparation, Model Training and Development Set Testing<a name=\"1\"></a>\n",
    "\n",
    "### 1.1 Load Data From CSV File  "
   ]
  },
  {
   "cell_type": "code",
   "execution_count": 2,
   "metadata": {
    "button": false,
    "new_sheet": false,
    "run_control": {
     "read_only": false
    }
   },
   "outputs": [
    {
     "data": {
      "text/plain": [
       "(346, 10)"
      ]
     },
     "execution_count": 2,
     "metadata": {},
     "output_type": "execute_result"
    }
   ],
   "source": [
    "df = pd.read_csv('loan_train.csv')\n",
    "df.shape"
   ]
  },
  {
   "cell_type": "markdown",
   "metadata": {
    "button": false,
    "new_sheet": false,
    "run_control": {
     "read_only": false
    }
   },
   "source": [
    "### 1.2 Pre-processing:  Feature selection/extraction"
   ]
  },
  {
   "cell_type": "code",
   "execution_count": 3,
   "metadata": {
    "button": false,
    "new_sheet": false,
    "run_control": {
     "read_only": false
    }
   },
   "outputs": [],
   "source": [
    "df['due_date'] = pd.to_datetime(df['due_date'])\n",
    "df['effective_date'] = pd.to_datetime(df['effective_date'])\n",
    "df['dayofweek'] = df['effective_date'].dt.dayofweek\n",
    "df['weekend'] = df['dayofweek'].apply(lambda x: 1 if (x>3)  else 0)\n",
    "# df.groupby(['Gender'])['loan_status'].value_counts(normalize=True)\n",
    "df['Gender'].replace(to_replace=['male','female'], value=[0,1],inplace=True)\n",
    "# df.groupby(['education'])['loan_status'].value_counts(normalize=True)\n",
    "Feature = df[['Principal','terms','age','Gender','weekend','effective_date','due_date']]\n",
    "# Feature = df[['Principal','terms','age','Gender','weekend','effective_date','due_date']]\n",
    "Feature['loan_duration'] = (Feature.due_date-Feature.effective_date).dt.days\n",
    "Feature.drop(['effective_date','due_date'],axis=1, inplace=True)\n",
    "# Feature['dtRatio'] = Feature['loan_duration']/Feature['terms']\n",
    "Feature = pd.concat([Feature,pd.get_dummies(df['education'])], axis=1)\n",
    "Feature.drop(['Master or Above'], axis = 1,inplace=True)\n",
    "# plt.plot(Feature.loan_duration/Feature.terms)\n",
    "df['loan_status'].replace(to_replace=['PAIDOFF','COLLECTION'], value=[0,1],inplace=True)\n",
    "X = Feature\n",
    "y = df['loan_status'].values\n",
    "X= preprocessing.StandardScaler().fit(X).transform(X) "
   ]
  },
  {
   "cell_type": "markdown",
   "metadata": {},
   "source": [
    "### 1.3 Train_dev_split_on_training_data"
   ]
  },
  {
   "cell_type": "code",
   "execution_count": 4,
   "metadata": {},
   "outputs": [],
   "source": [
    "from sklearn.model_selection import train_test_split\n",
    "X_train, X_test, y_train, y_test = train_test_split(X,y,test_size=0.2,random_state=42)"
   ]
  },
  {
   "cell_type": "markdown",
   "metadata": {
    "button": false,
    "new_sheet": false,
    "run_control": {
     "read_only": false
    }
   },
   "source": [
    "### 1.4 Classification "
   ]
  },
  {
   "cell_type": "markdown",
   "metadata": {
    "button": false,
    "new_sheet": false,
    "run_control": {
     "read_only": false
    }
   },
   "source": [
    "The following will be using four methods to train and test models, namely KNN, Decision Tree, Support Vector Machine and Logistic Regression."
   ]
  },
  {
   "cell_type": "markdown",
   "metadata": {},
   "source": [
    "### 1.4.1 K Nearest Neighbor(KNN)\n"
   ]
  },
  {
   "cell_type": "code",
   "execution_count": 5,
   "metadata": {},
   "outputs": [],
   "source": [
    "# Train and predict the model\n",
    "from sklearn.neighbors import KNeighborsClassifier\n",
    "k=8 #from the plot below we see the highest development set testing accuracy is obtained at k = 8.\n",
    "neigh = KNeighborsClassifier(n_neighbors = k).fit(X_train,y_train)\n",
    "yhat = neigh.predict(X_test)"
   ]
  },
  {
   "cell_type": "code",
   "execution_count": 6,
   "metadata": {},
   "outputs": [
    {
     "name": "stdout",
     "output_type": "stream",
     "text": [
      "              precision    recall  f1-score   support\n",
      "\n",
      "           0      0.818     0.964     0.885        56\n",
      "           1      0.500     0.143     0.222        14\n",
      "\n",
      "    accuracy                          0.800        70\n",
      "   macro avg      0.659     0.554     0.554        70\n",
      "weighted avg      0.755     0.800     0.753        70\n",
      "\n",
      "jaccard score 0.125\n"
     ]
    }
   ],
   "source": [
    "print (classification_report(y_test, yhat,digits=3)) \n",
    "print(\"jaccard score\",round(jaccard_score(y_test, yhat),3))"
   ]
  },
  {
   "cell_type": "code",
   "execution_count": 7,
   "metadata": {},
   "outputs": [
    {
     "data": {
      "image/png": "[encoded data removed]",
      "text/plain": [
       "<Figure size 432x288 with 1 Axes>"
      ]
     },
     "metadata": {
      "needs_background": "light"
     },
     "output_type": "display_data"
    }
   ],
   "source": [
    "# Try different values of K:\n",
    "Ks=15\n",
    "mean_acc = np.zeros((Ks-1))\n",
    "std_acc = np.zeros((Ks-1))\n",
    "ConfusionMx = []\n",
    "for n in range(1,Ks):\n",
    "    neigh = KNeighborsClassifier(n_neighbors = n).fit(X_train, y_train)\n",
    "    yhat = neigh.predict(X_test)\n",
    "    mean_acc[n-1] = metrics.accuracy_score(y_test,yhat)\n",
    "    std_acc[n-1] = np.std(yhat==y_test)/np.sqrt(yhat.shape[0])\n",
    "    \n",
    "# plot K-Accuracy relationship\n",
    "plt.plot(range(1,Ks),mean_acc,'g')\n",
    "plt.fill_between(range(1,Ks),mean_acc-1*std_acc,mean_acc +1 * std_acc, alpha=0.1)\n",
    "plt.legend(('Accuracy ', '+/- 3xstd'))\n",
    "plt.ylabel('Accuracy ')\n",
    "plt.xlabel('Number of Nabors (K)')\n",
    "plt.title('Choosing K with highest accuracy from dev set')\n",
    "plt.tight_layout()\n",
    "plt.show()"
   ]
  },
  {
   "cell_type": "markdown",
   "metadata": {},
   "source": [
    "### 1.4.2 Decision Tree"
   ]
  },
  {
   "cell_type": "code",
   "execution_count": 8,
   "metadata": {},
   "outputs": [],
   "source": [
    "from sklearn.tree import DecisionTreeClassifier\n",
    "from sklearn import tree\n",
    "\n",
    "# Training\n",
    "drugTree = DecisionTreeClassifier(criterion=\"entropy\") #create a tree instance, , max_depth = 4\n",
    "tree_fit=drugTree.fit(X_train,y_train)\n",
    "\n",
    "\n",
    "#Prediction\n",
    "yhat = drugTree.predict(X_test)"
   ]
  },
  {
   "cell_type": "code",
   "execution_count": 9,
   "metadata": {},
   "outputs": [
    {
     "name": "stdout",
     "output_type": "stream",
     "text": [
      "              precision    recall  f1-score   support\n",
      "\n",
      "           0      0.815     0.786     0.800        56\n",
      "           1      0.250     0.286     0.267        14\n",
      "\n",
      "    accuracy                          0.686        70\n",
      "   macro avg      0.532     0.536     0.533        70\n",
      "weighted avg      0.702     0.686     0.693        70\n",
      "\n",
      "jaccard score 0.154\n"
     ]
    }
   ],
   "source": [
    "# Evaluate accuracy of model\n",
    "print (classification_report(y_test, yhat,digits=3)) \n",
    "print(\"jaccard score\",round(jaccard_score(y_test, yhat),3))"
   ]
  },
  {
   "cell_type": "markdown",
   "metadata": {},
   "source": [
    "### 1.4.3 Support Vector Machine"
   ]
  },
  {
   "cell_type": "code",
   "execution_count": 10,
   "metadata": {},
   "outputs": [],
   "source": [
    "from sklearn import svm\n",
    "clf = svm.SVC(kernel='rbf') #SVM has many Kernel functions like 1)linear; 2)Polynomial; 3)Radial Basis Function-RBF; 4)Sigmoid\n",
    "clf.fit(X_train, y_train) \n",
    "yhat = clf.predict(X_test) # predict on test set"
   ]
  },
  {
   "cell_type": "code",
   "execution_count": 11,
   "metadata": {},
   "outputs": [
    {
     "name": "stdout",
     "output_type": "stream",
     "text": [
      "              precision    recall  f1-score   support\n",
      "\n",
      "           0      0.793     0.821     0.807        56\n",
      "           1      0.167     0.143     0.154        14\n",
      "\n",
      "    accuracy                          0.686        70\n",
      "   macro avg      0.480     0.482     0.480        70\n",
      "weighted avg      0.668     0.686     0.676        70\n",
      "\n",
      "jaccard score 0.083\n"
     ]
    }
   ],
   "source": [
    "print (classification_report(y_test, yhat,digits=3)) \n",
    "print(\"jaccard score\",round(jaccard_score(y_test, yhat),3))"
   ]
  },
  {
   "cell_type": "markdown",
   "metadata": {},
   "source": [
    "### 1.4.4 Logistic Regression"
   ]
  },
  {
   "cell_type": "code",
   "execution_count": 12,
   "metadata": {},
   "outputs": [],
   "source": [
    "from sklearn.linear_model import LogisticRegression\n",
    "from sklearn.metrics import confusion_matrix\n",
    "LR = LogisticRegression(C=0.01, solver = 'liblinear').fit(X_train,y_train) # C is inverse lambda, the inverse of regularization term \n",
    "yhat = LR.predict(X_test) # predict classes on testset\n",
    "yhat_prob = LR.predict_proba(X_test) # predict probability on testset: the first column is first class, 2nd Col is 2nd class..."
   ]
  },
  {
   "cell_type": "code",
   "execution_count": 13,
   "metadata": {},
   "outputs": [
    {
     "name": "stdout",
     "output_type": "stream",
     "text": [
      "              precision    recall  f1-score   support\n",
      "\n",
      "           0      0.800     0.786     0.793        56\n",
      "           1      0.200     0.214     0.207        14\n",
      "\n",
      "    accuracy                          0.671        70\n",
      "   macro avg      0.500     0.500     0.500        70\n",
      "weighted avg      0.680     0.671     0.676        70\n",
      "\n",
      "jaccard score 0.115\n",
      "logloss 0.582\n"
     ]
    }
   ],
   "source": [
    "print (classification_report(y_test, yhat,digits=3)) \n",
    "print(\"jaccard score\",round(jaccard_score(y_test, yhat),3))\n",
    "print(\"logloss\",round(log_loss(y_test, yhat_prob),3))"
   ]
  },
  {
   "cell_type": "markdown",
   "metadata": {},
   "source": [
    "## Part II Model Evaluation Using Test Set<a name=\"2\"></a>"
   ]
  },
  {
   "cell_type": "markdown",
   "metadata": {},
   "source": [
    "First, download and load the test set:"
   ]
  },
  {
   "cell_type": "markdown",
   "metadata": {
    "button": false,
    "new_sheet": false,
    "run_control": {
     "read_only": false
    }
   },
   "source": [
    "### 2.1 Load Test set for evaluation "
   ]
  },
  {
   "cell_type": "code",
   "execution_count": 14,
   "metadata": {
    "button": false,
    "new_sheet": false,
    "run_control": {
     "read_only": false
    }
   },
   "outputs": [],
   "source": [
    "df2 = pd.read_csv('loan_test.csv')"
   ]
  },
  {
   "cell_type": "markdown",
   "metadata": {},
   "source": [
    "### 2.2 data preparation for test set"
   ]
  },
  {
   "cell_type": "code",
   "execution_count": 15,
   "metadata": {},
   "outputs": [],
   "source": [
    "#1. data preparation\n",
    "df2['due_date'] = pd.to_datetime(df2['due_date'])\n",
    "df2['effective_date'] = pd.to_datetime(df2['effective_date'])\n",
    "df2['dayofweek'] = df2['effective_date'].dt.dayofweek\n",
    "df2['weekend'] = df2['dayofweek'].apply(lambda x: 1 if (x>3)  else 0)\n",
    "df2['Gender'].replace(to_replace=['male','female'], value=[0,1],inplace=True)\n",
    "Feature2 = df2[['Principal','terms','age','Gender','weekend','effective_date','due_date']]\n",
    "Feature2['loan_duration'] = (Feature2.due_date-Feature2.effective_date).dt.days\n",
    "Feature2.drop(['effective_date','due_date'],axis=1, inplace=True)\n",
    "# Feature2['dtRatio'] = Feature2['loan_duration']/Feature2['terms']\n",
    "Feature2 = pd.concat([Feature2,pd.get_dummies(df2['education'])], axis=1)\n",
    "Feature2.drop(['Master or Above'], axis = 1,inplace=True)\n",
    "df2['loan_status'].replace(to_replace=['PAIDOFF','COLLECTION'], value=[0,1],inplace=True)\n",
    "X_ = Feature2\n",
    "y_oos = df2['loan_status'].values\n",
    "X_oos= preprocessing.StandardScaler().fit(X_).transform(X_)"
   ]
  },
  {
   "cell_type": "markdown",
   "metadata": {},
   "source": [
    "### 2.3 Classification on test sets using different methods "
   ]
  },
  {
   "cell_type": "markdown",
   "metadata": {},
   "source": [
    "### 2.3.1 KNN out-of-sample test"
   ]
  },
  {
   "cell_type": "code",
   "execution_count": 16,
   "metadata": {},
   "outputs": [
    {
     "name": "stdout",
     "output_type": "stream",
     "text": [
      "              precision    recall  f1-score   support\n",
      "\n",
      "           0      0.765     0.975     0.857        40\n",
      "           1      0.667     0.143     0.235        14\n",
      "\n",
      "    accuracy                          0.759        54\n",
      "   macro avg      0.716     0.559     0.546        54\n",
      "weighted avg      0.739     0.759     0.696        54\n",
      "\n",
      "jaccard score 0.133\n"
     ]
    },
    {
     "data": {
      "text/plain": [
       "(array([0, 0, 0, 0, 0, 0, 0, 0, 0, 0, 0, 0, 0, 0, 0, 1, 0, 0, 0, 0, 0, 0,\n",
       "        0, 0, 0, 0, 0, 0, 0, 0, 0, 0, 0, 0, 0, 0, 0, 0, 0, 0, 0, 0, 0, 0,\n",
       "        0, 1, 1, 0, 0, 0, 0, 0, 0, 0], dtype=int64),\n",
       " array([0, 0, 0, 0, 0, 0, 0, 0, 0, 0, 0, 0, 0, 0, 0, 0, 0, 0, 0, 0, 0, 0,\n",
       "        0, 0, 0, 0, 0, 0, 0, 0, 0, 0, 0, 0, 0, 0, 0, 0, 0, 0, 1, 1, 1, 1,\n",
       "        1, 1, 1, 1, 1, 1, 1, 1, 1, 1], dtype=int64))"
      ]
     },
     "execution_count": 16,
     "metadata": {},
     "output_type": "execute_result"
    }
   ],
   "source": [
    "yhat = neigh.predict(X_oos)\n",
    "print (classification_report(y_oos, yhat,digits=3)) \n",
    "print(\"jaccard score\",round(jaccard_score(y_oos, yhat),3))\n",
    "yhat,y_oos"
   ]
  },
  {
   "cell_type": "markdown",
   "metadata": {},
   "source": [
    "### 2.3.2 Decision Tree out-of-sample test"
   ]
  },
  {
   "cell_type": "code",
   "execution_count": 17,
   "metadata": {},
   "outputs": [
    {
     "name": "stdout",
     "output_type": "stream",
     "text": [
      "              precision    recall  f1-score   support\n",
      "\n",
      "           0      0.829     0.850     0.840        40\n",
      "           1      0.538     0.500     0.519        14\n",
      "\n",
      "    accuracy                          0.759        54\n",
      "   macro avg      0.684     0.675     0.679        54\n",
      "weighted avg      0.754     0.759     0.756        54\n",
      "\n",
      "jaccard score 0.35\n"
     ]
    },
    {
     "data": {
      "text/plain": [
       "(array([0, 0, 0, 1, 1, 1, 0, 0, 0, 0, 1, 0, 0, 0, 0, 1, 0, 0, 1, 0, 0, 0,\n",
       "        0, 0, 0, 0, 0, 0, 0, 0, 0, 0, 0, 0, 0, 0, 0, 0, 0, 0, 1, 0, 1, 0,\n",
       "        1, 1, 1, 0, 0, 0, 0, 1, 1, 0], dtype=int64),\n",
       " array([0, 0, 0, 0, 0, 0, 0, 0, 0, 0, 0, 0, 0, 0, 0, 0, 0, 0, 0, 0, 0, 0,\n",
       "        0, 0, 0, 0, 0, 0, 0, 0, 0, 0, 0, 0, 0, 0, 0, 0, 0, 0, 1, 1, 1, 1,\n",
       "        1, 1, 1, 1, 1, 1, 1, 1, 1, 1], dtype=int64))"
      ]
     },
     "execution_count": 17,
     "metadata": {},
     "output_type": "execute_result"
    }
   ],
   "source": [
    "yhat = drugTree.predict(X_oos)\n",
    "print (classification_report(y_oos, yhat,digits=3)) \n",
    "print(\"jaccard score\",round(jaccard_score(y_oos, yhat),3))\n",
    "yhat,y_oos"
   ]
  },
  {
   "cell_type": "markdown",
   "metadata": {},
   "source": [
    "### 2.3.3 SVM out-of-sample test"
   ]
  },
  {
   "cell_type": "code",
   "execution_count": 18,
   "metadata": {},
   "outputs": [
    {
     "name": "stdout",
     "output_type": "stream",
     "text": [
      "              precision    recall  f1-score   support\n",
      "\n",
      "           0      0.804     0.925     0.860        40\n",
      "           1      0.625     0.357     0.455        14\n",
      "\n",
      "    accuracy                          0.778        54\n",
      "   macro avg      0.715     0.641     0.658        54\n",
      "weighted avg      0.758     0.778     0.755        54\n",
      "\n",
      "jaccard score 0.294\n"
     ]
    },
    {
     "data": {
      "text/plain": [
       "(array([0, 0, 0, 0, 1, 0, 0, 0, 0, 0, 1, 0, 0, 0, 0, 1, 0, 0, 0, 0, 0, 0,\n",
       "        0, 0, 0, 0, 0, 0, 0, 0, 0, 0, 0, 0, 0, 0, 0, 0, 0, 0, 1, 0, 0, 0,\n",
       "        0, 1, 1, 0, 0, 1, 0, 1, 0, 0], dtype=int64),\n",
       " array([0, 0, 0, 0, 0, 0, 0, 0, 0, 0, 0, 0, 0, 0, 0, 0, 0, 0, 0, 0, 0, 0,\n",
       "        0, 0, 0, 0, 0, 0, 0, 0, 0, 0, 0, 0, 0, 0, 0, 0, 0, 0, 1, 1, 1, 1,\n",
       "        1, 1, 1, 1, 1, 1, 1, 1, 1, 1], dtype=int64))"
      ]
     },
     "execution_count": 18,
     "metadata": {},
     "output_type": "execute_result"
    }
   ],
   "source": [
    "yhat = clf.predict(X_oos)\n",
    "print (classification_report(y_oos, yhat,digits=3)) \n",
    "print(\"jaccard score\",round(jaccard_score(y_oos, yhat),3))\n",
    "yhat,y_oos"
   ]
  },
  {
   "cell_type": "markdown",
   "metadata": {},
   "source": [
    "### 2.3.4 logistic regression out-of-sample test"
   ]
  },
  {
   "cell_type": "code",
   "execution_count": 19,
   "metadata": {},
   "outputs": [
    {
     "name": "stdout",
     "output_type": "stream",
     "text": [
      "              precision    recall  f1-score   support\n",
      "\n",
      "           0      0.804     0.925     0.860        40\n",
      "           1      0.625     0.357     0.455        14\n",
      "\n",
      "    accuracy                          0.778        54\n",
      "   macro avg      0.715     0.641     0.658        54\n",
      "weighted avg      0.758     0.778     0.755        54\n",
      "\n",
      "jaccard score 0.294\n",
      "logloss 0.566\n"
     ]
    },
    {
     "data": {
      "text/plain": [
       "(array([0, 0, 0, 0, 0, 0, 0, 1, 0, 0, 0, 0, 1, 0, 0, 1, 0, 0, 0, 0, 0, 0,\n",
       "        0, 0, 0, 0, 0, 0, 0, 0, 0, 0, 0, 0, 0, 0, 0, 0, 0, 0, 1, 0, 0, 0,\n",
       "        0, 1, 1, 0, 0, 1, 0, 1, 0, 0], dtype=int64),\n",
       " array([0, 0, 0, 0, 0, 0, 0, 0, 0, 0, 0, 0, 0, 0, 0, 0, 0, 0, 0, 0, 0, 0,\n",
       "        0, 0, 0, 0, 0, 0, 0, 0, 0, 0, 0, 0, 0, 0, 0, 0, 0, 0, 1, 1, 1, 1,\n",
       "        1, 1, 1, 1, 1, 1, 1, 1, 1, 1], dtype=int64))"
      ]
     },
     "execution_count": 19,
     "metadata": {},
     "output_type": "execute_result"
    }
   ],
   "source": [
    "yhat = LR.predict(X_oos) # predict classes on testset\n",
    "yhat_prob = LR.predict_proba(X_oos) \n",
    "print (classification_report(y_oos, yhat,digits=3)) \n",
    "print(\"jaccard score\",round(jaccard_score(y_oos, yhat),3))\n",
    "print(\"logloss\",round(log_loss(y_oos, yhat_prob),3))\n",
    "yhat,y_oos"
   ]
  },
  {
   "cell_type": "markdown",
   "metadata": {},
   "source": [
    "## Part III Accuracy Report<a name=\"3\"></a>\n",
    "the accuracy of the built model using different evaluation metrics are as follows:"
   ]
  },
  {
   "cell_type": "markdown",
   "metadata": {},
   "source": [
    "| Algorithm          | Jaccard | F1-score | LogLoss |\n",
    "|--------------------|---------|----------|---------|\n",
    "| KNN                | 0.133       | 0.759        | NA      |\n",
    "| Decision Tree      | 0.35       | 0.759        | NA      |\n",
    "| SVM                | 0.294       | 0.778        | NA      |\n",
    "| LogisticRegression | 0.294       | 0.778        | 0.566       |"
   ]
  },
  {
   "cell_type": "markdown",
   "metadata": {
    "button": false,
    "new_sheet": false,
    "run_control": {
     "read_only": false
    }
   },
   "source": [
    "<h4>Author:  <a href=\"https://www.linkedin.com/in/harry-sun-73451112a/\">Harry Sun</a></h4>\n",
    "\n",
    "\n",
    "<hr>\n",
    "\n"
   ]
  }
 ],
 "metadata": {
  "kernelspec": {
   "display_name": "Python 3",
   "language": "python",
   "name": "python3"
  },
  "language_info": {
   "codemirror_mode": {
    "name": "ipython",
    "version": 3
   },
   "file_extension": ".py",
   "mimetype": "text/x-python",
   "name": "python",
   "nbconvert_exporter": "python",
   "pygments_lexer": "ipython3",
   "version": "3.7.1"
  }
 },
 "nbformat": 4,
 "nbformat_minor": 2
}
